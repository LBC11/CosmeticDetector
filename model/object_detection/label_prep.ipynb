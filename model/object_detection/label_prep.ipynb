{
 "cells": [
  {
   "cell_type": "code",
   "execution_count": 3,
   "metadata": {},
   "outputs": [],
   "source": [
    "import os\n",
    "\n",
    "# 수정하고자 하는 파일이 있는 디렉토리 경로\n",
    "directory_path = '/home/iai/Desktop/Jeewon/Capstone/cosmetic_data/valid/labels'\n",
    "\n",
    "# 디렉토리 내 모든 txt 파일 찾기\n",
    "for subdir, dirs, files in os.walk(directory_path):\n",
    "    for file in files:\n",
    "        # txt 파일만 처리\n",
    "        if file.endswith('.txt'):\n",
    "            # 파일 읽기\n",
    "            file_path = os.path.join(subdir, file)\n",
    "            with open(file_path, 'r') as f:\n",
    "                content = f.readlines()\n",
    "            \n",
    "            # 내용 변경\n",
    "            new_content = []\n",
    "            for line in content:\n",
    "                line = line.strip().split()\n",
    "                line[0] = '0'\n",
    "                new_content.append(' '.join(line) + '\\n')\n",
    "            new_content = ''.join(new_content)\n",
    "            \n",
    "            # 변경된 내용으로 파일 쓰기\n",
    "            with open(file_path, 'w') as f:\n",
    "                f.write(new_content)\n"
   ]
  }
 ],
 "metadata": {
  "kernelspec": {
   "display_name": "Python 3",
   "language": "python",
   "name": "python3"
  },
  "language_info": {
   "codemirror_mode": {
    "name": "ipython",
    "version": 3
   },
   "file_extension": ".py",
   "mimetype": "text/x-python",
   "name": "python",
   "nbconvert_exporter": "python",
   "pygments_lexer": "ipython3",
   "version": "3.8.13"
  },
  "orig_nbformat": 4
 },
 "nbformat": 4,
 "nbformat_minor": 2
}
