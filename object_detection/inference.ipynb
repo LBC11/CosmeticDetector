{
 "cells": [
  {
   "cell_type": "code",
   "execution_count": 2,
   "metadata": {},
   "outputs": [],
   "source": [
    "from ultralytics import YOLO\n",
    "\n",
    "model_path = '/home/iai/Desktop/Jeewon/Capstone/checkpoints/best.pt'\n",
    "model = YOLO(model_path)\n",
    "\n",
    "# 입력 데이터에 대한 예측값 계산\n",
    "results = model.predict(source='/home/iai/Desktop/Jeewon/Capstone/cosmetic_data/test/images', save = False)"
   ]
  },
  {
   "cell_type": "code",
   "execution_count": 24,
   "metadata": {},
   "outputs": [
    {
     "name": "stderr",
     "output_type": "stream",
     "text": [
      "Ultralytics YOLOv8.0.86 🚀 Python-3.8.13 torch-1.8.2+cu111 CUDA:0 (NVIDIA GeForce RTX 3090, 24268MiB)\n",
      "\u001b[34m\u001b[1mval: \u001b[0mScanning /home/iai/Desktop/Jeewon/Capstone/cosmetic_data/valid/labels.cache... 1073 images, 211 backgrounds, 0 corrupt: 100%|██████████| 1073/1073 [00:00<?, ?it/s]\n",
      "                 Class     Images  Instances      Box(P          R      mAP50  mAP50-95): 100%|██████████| 68/68 [00:02<00:00, 23.57it/s]\n",
      "                   all       1073       1441      0.964       0.95      0.977      0.887\n",
      "Speed: 0.1ms preprocess, 0.8ms inference, 0.0ms loss, 0.5ms postprocess per image\n",
      "Results saved to \u001b[1m/home/iai/runs/detect/val3\u001b[0m\n"
     ]
    }
   ],
   "source": [
    "result = model.val()"
   ]
  },
  {
   "cell_type": "code",
   "execution_count": 3,
   "metadata": {},
   "outputs": [
    {
     "data": {
      "text/plain": [
       "{0: 'cosmetic'}"
      ]
     },
     "execution_count": 3,
     "metadata": {},
     "output_type": "execute_result"
    }
   ],
   "source": [
    "model.names"
   ]
  }
 ],
 "metadata": {
  "kernelspec": {
   "display_name": "jwnew",
   "language": "python",
   "name": "python3"
  },
  "language_info": {
   "codemirror_mode": {
    "name": "ipython",
    "version": 3
   },
   "file_extension": ".py",
   "mimetype": "text/x-python",
   "name": "python",
   "nbconvert_exporter": "python",
   "pygments_lexer": "ipython3",
   "version": "3.8.13"
  },
  "orig_nbformat": 4
 },
 "nbformat": 4,
 "nbformat_minor": 2
}
