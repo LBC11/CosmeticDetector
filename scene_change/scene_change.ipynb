{
 "cells": [
  {
   "cell_type": "code",
   "execution_count": 3,
   "metadata": {},
   "outputs": [
    {
     "name": "stderr",
     "output_type": "stream",
     "text": [
      "VideoManager is deprecated and will be removed.\n"
     ]
    }
   ],
   "source": [
    "import cv2\n",
    "from scenedetect import VideoManager, SceneManager, FrameTimecode, StatsManager\n",
    "from scenedetect.detectors import ContentDetector\n",
    "\n",
    "# 동영상 열기\n",
    "cap = cv2.VideoCapture('/workspace/scene_change/IMG_4247.mp4')\n",
    "\n",
    "# 프레임 추출\n",
    "frame_count = 0\n",
    "prev_frame = None\n",
    "scene_list = []  # scene_list 변수 정의\n",
    "\n",
    "while True:\n",
    "    ret, frame = cap.read()\n",
    "    if not ret:\n",
    "        break\n",
    "\n",
    "    # 프레임 그레이스케일 변환\n",
    "    gray = cv2.cvtColor(frame, cv2.COLOR_BGR2GRAY)\n",
    "\n",
    "    # 이전 프레임과 현재 프레임의 차이 계산\n",
    "    if prev_frame is not None:\n",
    "        diff = cv2.absdiff(gray, prev_frame)\n",
    "        count = cv2.countNonZero(diff)\n",
    "\n",
    "        # 임계값 이상의 차이가 감지되면 해당 시간 프레임 저장\n",
    "        if count > 5000:\n",
    "            time_ms = int(cap.get(cv2.CAP_PROP_POS_MSEC))\n",
    "            timecode = FrameTimecode(time_ms, fps=cap.get(cv2.CAP_PROP_FPS))\n",
    "            scene_list.append(timecode)\n",
    "\n",
    "    prev_frame = gray.copy()\n",
    "    frame_count += 1\n",
    "\n",
    "# 동영상 종료 및 OpenCV 리소스 해제\n",
    "cap.release()\n",
    "cv2.destroyAllWindows()\n",
    "\n",
    "# PySceneDetect를 사용하여 화면 장면 전환 감지\n",
    "video_manager = VideoManager(['/workspace/scene_change/IMG_4247.mp4'])\n",
    "stats_manager = StatsManager()\n",
    "scene_manager = SceneManager(stats_manager)\n",
    "scene_manager.add_detector(ContentDetector(threshold=30))\n",
    "scene_manager.detect_scenes(frame_source=video_manager)\n",
    "\n",
    "# 감지된 시간 프레임 출력\n",
    "scene_list = scene_manager.get_scene_list()\n",
    "for i, scene in enumerate(scene_list):\n",
    "    print(\"Scene %2d: %s - %s\" % (i+1, scene[0], scene[1]))"
   ]
  },
  {
   "cell_type": "code",
   "execution_count": 4,
   "metadata": {},
   "outputs": [
    {
     "ename": "ValueError",
     "evalue": "Timecode frame number must be positive and greater than zero.",
     "output_type": "error",
     "traceback": [
      "\u001b[0;31m---------------------------------------------------------------------------\u001b[0m",
      "\u001b[0;31mValueError\u001b[0m                                Traceback (most recent call last)",
      "\u001b[0;32m<ipython-input-4-bf1918bfc19d>\u001b[0m in \u001b[0;36m<module>\u001b[0;34m\u001b[0m\n\u001b[1;32m     27\u001b[0m     \u001b[0mframe_number\u001b[0m \u001b[0;34m=\u001b[0m \u001b[0mint\u001b[0m\u001b[0;34m(\u001b[0m\u001b[0mcap\u001b[0m\u001b[0;34m.\u001b[0m\u001b[0mget\u001b[0m\u001b[0;34m(\u001b[0m\u001b[0mcv2\u001b[0m\u001b[0;34m.\u001b[0m\u001b[0mCAP_PROP_POS_FRAMES\u001b[0m\u001b[0;34m)\u001b[0m\u001b[0;34m)\u001b[0m\u001b[0;34m\u001b[0m\u001b[0;34m\u001b[0m\u001b[0m\n\u001b[1;32m     28\u001b[0m     \u001b[0mtime_ms\u001b[0m \u001b[0;34m=\u001b[0m \u001b[0mint\u001b[0m\u001b[0;34m(\u001b[0m\u001b[0mcap\u001b[0m\u001b[0;34m.\u001b[0m\u001b[0mget\u001b[0m\u001b[0;34m(\u001b[0m\u001b[0mcv2\u001b[0m\u001b[0;34m.\u001b[0m\u001b[0mCAP_PROP_POS_MSEC\u001b[0m\u001b[0;34m)\u001b[0m\u001b[0;34m)\u001b[0m\u001b[0;34m\u001b[0m\u001b[0;34m\u001b[0m\u001b[0m\n\u001b[0;32m---> 29\u001b[0;31m     \u001b[0mtimecode\u001b[0m \u001b[0;34m=\u001b[0m \u001b[0mFrameTimecode\u001b[0m\u001b[0;34m(\u001b[0m\u001b[0mtime_ms\u001b[0m\u001b[0;34m,\u001b[0m \u001b[0mfps\u001b[0m\u001b[0;34m=\u001b[0m\u001b[0mvideo_fps\u001b[0m\u001b[0;34m)\u001b[0m\u001b[0;34m\u001b[0m\u001b[0;34m\u001b[0m\u001b[0m\n\u001b[0m\u001b[1;32m     30\u001b[0m \u001b[0;34m\u001b[0m\u001b[0m\n\u001b[1;32m     31\u001b[0m     \u001b[0;31m# PySceneDetect에서 화면 장면 전환 감지\u001b[0m\u001b[0;34m\u001b[0m\u001b[0;34m\u001b[0m\u001b[0;34m\u001b[0m\u001b[0m\n",
      "\u001b[0;32m/usr/local/lib/python3.8/dist-packages/scenedetect/frame_timecode.py\u001b[0m in \u001b[0;36m__init__\u001b[0;34m(self, timecode, fps)\u001b[0m\n\u001b[1;32m    139\u001b[0m             \u001b[0mself\u001b[0m\u001b[0;34m.\u001b[0m\u001b[0mframe_num\u001b[0m \u001b[0;34m=\u001b[0m \u001b[0mself\u001b[0m\u001b[0;34m.\u001b[0m\u001b[0m_parse_timecode_string\u001b[0m\u001b[0;34m(\u001b[0m\u001b[0mtimecode\u001b[0m\u001b[0;34m)\u001b[0m\u001b[0;34m\u001b[0m\u001b[0;34m\u001b[0m\u001b[0m\n\u001b[1;32m    140\u001b[0m         \u001b[0;32melse\u001b[0m\u001b[0;34m:\u001b[0m\u001b[0;34m\u001b[0m\u001b[0;34m\u001b[0m\u001b[0m\n\u001b[0;32m--> 141\u001b[0;31m             \u001b[0mself\u001b[0m\u001b[0;34m.\u001b[0m\u001b[0mframe_num\u001b[0m \u001b[0;34m=\u001b[0m \u001b[0mself\u001b[0m\u001b[0;34m.\u001b[0m\u001b[0m_parse_timecode_number\u001b[0m\u001b[0;34m(\u001b[0m\u001b[0mtimecode\u001b[0m\u001b[0;34m)\u001b[0m\u001b[0;34m\u001b[0m\u001b[0;34m\u001b[0m\u001b[0m\n\u001b[0m\u001b[1;32m    142\u001b[0m \u001b[0;34m\u001b[0m\u001b[0m\n\u001b[1;32m    143\u001b[0m     \u001b[0;31m# TODO(v1.0): Add a `frame` property to replace the existing one and deprecate this getter.\u001b[0m\u001b[0;34m\u001b[0m\u001b[0;34m\u001b[0m\u001b[0;34m\u001b[0m\u001b[0m\n",
      "\u001b[0;32m/usr/local/lib/python3.8/dist-packages/scenedetect/frame_timecode.py\u001b[0m in \u001b[0;36m_parse_timecode_number\u001b[0;34m(self, timecode)\u001b[0m\n\u001b[1;32m    248\u001b[0m         \u001b[0;32mif\u001b[0m \u001b[0misinstance\u001b[0m\u001b[0;34m(\u001b[0m\u001b[0mtimecode\u001b[0m\u001b[0;34m,\u001b[0m \u001b[0mint\u001b[0m\u001b[0;34m)\u001b[0m\u001b[0;34m:\u001b[0m\u001b[0;34m\u001b[0m\u001b[0;34m\u001b[0m\u001b[0m\n\u001b[1;32m    249\u001b[0m             \u001b[0;32mif\u001b[0m \u001b[0mtimecode\u001b[0m \u001b[0;34m<\u001b[0m \u001b[0;36m0\u001b[0m\u001b[0;34m:\u001b[0m\u001b[0;34m\u001b[0m\u001b[0;34m\u001b[0m\u001b[0m\n\u001b[0;32m--> 250\u001b[0;31m                 \u001b[0;32mraise\u001b[0m \u001b[0mValueError\u001b[0m\u001b[0;34m(\u001b[0m\u001b[0;34m'Timecode frame number must be positive and greater than zero.'\u001b[0m\u001b[0;34m)\u001b[0m\u001b[0;34m\u001b[0m\u001b[0;34m\u001b[0m\u001b[0m\n\u001b[0m\u001b[1;32m    251\u001b[0m             \u001b[0;32mreturn\u001b[0m \u001b[0mtimecode\u001b[0m\u001b[0;34m\u001b[0m\u001b[0;34m\u001b[0m\u001b[0m\n\u001b[1;32m    252\u001b[0m         \u001b[0;31m# Number of seconds S\u001b[0m\u001b[0;34m\u001b[0m\u001b[0;34m\u001b[0m\u001b[0;34m\u001b[0m\u001b[0m\n",
      "\u001b[0;31mValueError\u001b[0m: Timecode frame number must be positive and greater than zero."
     ]
    }
   ],
   "source": [
    "import cv2\n",
    "from scenedetect import SceneManager, StatsManager\n",
    "from scenedetect.frame_timecode import FrameTimecode\n",
    "from scenedetect.detectors import ContentDetector\n",
    "\n",
    "# 동영상 열기\n",
    "cap = cv2.VideoCapture('/workspace/scene_change/IMG_4247.mp4')\n",
    "\n",
    "# PySceneDetect 객체 생성\n",
    "video_fps = cap.get(cv2.CAP_PROP_FPS)\n",
    "frame_width = int(cap.get(cv2.CAP_PROP_FRAME_WIDTH))\n",
    "frame_height = int(cap.get(cv2.CAP_PROP_FRAME_HEIGHT))\n",
    "stats_manager = StatsManager()\n",
    "scene_manager = SceneManager(stats_manager)\n",
    "scene_manager.add_detector(ContentDetector(threshold=30))\n",
    "\n",
    "# 화면 장면 전환 감지\n",
    "scene_list = []\n",
    "start_time = None\n",
    "while True:\n",
    "    # 프레임 읽기\n",
    "    ret, frame = cap.read()\n",
    "    if not ret:\n",
    "        break\n",
    "\n",
    "    # 현재 프레임의 시간 추출\n",
    "    frame_number = int(cap.get(cv2.CAP_PROP_POS_FRAMES))\n",
    "    time_ms = int(cap.get(cv2.CAP_PROP_POS_MSEC))\n",
    "    timecode = FrameTimecode(time_ms, fps=video_fps)\n",
    "\n",
    "    # PySceneDetect에서 화면 장면 전환 감지\n",
    "    scene_manager.detect_scenes(frame_number, frame)\n",
    "\n",
    "    # 새로운 화면 장면이 감지되면 시작 시간 저장\n",
    "    if scene_manager.get_num_scenes() > len(scene_list):\n",
    "        start_time = timecode\n",
    "\n",
    "    # 화면 장면이 종료되면 해당 구간의 시작 시간과 종료 시간 저장\n",
    "    for i, scene in enumerate(scene_manager.get_scene_list()):\n",
    "        if i > len(scene_list):\n",
    "            start_frame, end_frame = scene[0], scene[1]\n",
    "            end_time = timecode\n",
    "            scene_list.append([start_time, end_time])\n",
    "            start_time = None\n",
    "            break\n",
    "\n",
    "# 동영상 종료 및 OpenCV 리소스 해제\n",
    "cap.release()\n",
    "cv2.destroyAllWindows()\n",
    "\n",
    "# 감지된 시간 프레임 출력\n",
    "for i, scene in enumerate(scene_list):\n",
    "    print(\"Scene %2d: %s - %s\" % (i+1, scene[0], scene[1]))\n"
   ]
  }
 ],
 "metadata": {
  "kernelspec": {
   "display_name": "Python 3",
   "language": "python",
   "name": "python3"
  },
  "language_info": {
   "codemirror_mode": {
    "name": "ipython",
    "version": 3
   },
   "file_extension": ".py",
   "mimetype": "text/x-python",
   "name": "python",
   "nbconvert_exporter": "python",
   "pygments_lexer": "ipython3",
   "version": "3.8.5"
  }
 },
 "nbformat": 4,
 "nbformat_minor": 4
}
