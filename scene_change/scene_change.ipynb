{
 "cells": [
  {
   "cell_type": "code",
   "execution_count": 4,
   "metadata": {
    "scrolled": true
   },
   "outputs": [
    {
     "name": "stdout",
     "output_type": "stream",
     "text": [
      "화면 전환 시간:  [4.7047, 8.041366666666667, 10.477133333333333, 16.7167, 18.551866666666665, 19.886533333333333, 23.823800000000002, 26.559866666666668, 29.162466666666667, 31.5315, 36.20283333333333, 45.11173333333333, 48.38166666666667, 51.618233333333336, 53.653600000000004, 83.28320000000001, 87.02026666666667, 90.8908, 94.32756666666667, 104.57113333333334, 113.113, 116.7166, 124.45766666666667, 127.3272, 142.10863333333333, 144.4443, 149.81633333333335, 154.32083333333333, 157.69086666666666, 165.8657, 176.80996666666667, 184.41756666666666, 193.82696666666666, 195.72886666666668, 198.16463333333334, 205.03816666666668, 216.44956666666667, 226.29273333333333, 232.56566666666666, 237.47056666666668, 242.17526666666666]\n"
     ]
    }
   ],
   "source": [
    "# 합\n",
    "\n",
    "import cv2\n",
    "\n",
    "# 동영상 파일 경로\n",
    "video_path = \"/workspace/scene_change/kimbap.mp4\"\n",
    "\n",
    "# 동영상 캡쳐 객체 생성\n",
    "cap = cv2.VideoCapture(video_path)\n",
    "\n",
    "# 이전 프레임\n",
    "prev_frame = None\n",
    "\n",
    "# 화면 전환 타임프레임 리스트\n",
    "transitions = []\n",
    "\n",
    "# FPS 구하기\n",
    "fps = cap.get(cv2.CAP_PROP_FPS)\n",
    "\n",
    "while True:\n",
    "    # 프레임 읽기\n",
    "    ret, frame = cap.read()\n",
    "\n",
    "    # 프레임을 읽을 수 없으면 종료\n",
    "    if not ret:\n",
    "        break\n",
    "\n",
    "    # 현재 프레임과 이전 프레임이 모두 있을 때\n",
    "    if prev_frame is not None:\n",
    "        # 현재 프레임과 이전 프레임의 차이 계산\n",
    "        diff = cv2.absdiff(frame, prev_frame)\n",
    "\n",
    "        # 차이의 합계 계산\n",
    "        diff_sum = diff.sum()\n",
    "\n",
    "        # 차이의 합계가 일정 값 이상이면 화면 전환으로 간주\n",
    "        if diff_sum > 50000000:\n",
    "            # 화면 전환 타임프레임 추가\n",
    "            transitions.append(cap.get(cv2.CAP_PROP_POS_FRAMES))\n",
    "\n",
    "    # 현재 프레임을 이전 프레임으로 저장\n",
    "    prev_frame = frame\n",
    "\n",
    "# 동영상 캡쳐 객체 해제\n",
    "cap.release()\n",
    "\n",
    "# 전환 시간 계산\n",
    "transition_times = [(frame / fps) for frame in transitions]\n",
    "\n",
    "# 화면 전환 시간 출력\n",
    "print(\"화면 전환 시간: \", transition_times)\n"
   ]
  },
  {
   "cell_type": "code",
   "execution_count": 11,
   "metadata": {},
   "outputs": [
    {
     "name": "stdout",
     "output_type": "stream",
     "text": [
      "화면 전환 시간:  [4.7047, 8.041366666666667, 10.477133333333333, 15.5155, 16.7167, 18.551866666666665, 19.886533333333333, 23.823800000000002, 26.559866666666668, 29.162466666666667, 31.5315, 36.20283333333333, 45.11173333333333, 48.38166666666667, 51.618233333333336, 53.653600000000004, 83.28320000000001, 87.02026666666667, 90.8908, 94.32756666666667, 104.57113333333334, 113.113, 116.7166, 124.45766666666667, 127.3272, 139.07226666666668, 142.10863333333333, 144.4443, 149.81633333333335, 154.32083333333333, 157.69086666666666, 165.8657, 176.80996666666667, 184.41756666666666, 193.82696666666666, 195.72886666666668, 198.16463333333334, 205.03816666666668, 216.44956666666667, 226.29273333333333, 232.56566666666666, 237.47056666666668, 242.17526666666666]\n"
     ]
    }
   ],
   "source": [
    "# 평균\n",
    "\n",
    "import cv2\n",
    "\n",
    "# 동영상 파일 경로\n",
    "video_path = \"/workspace/scene_change/kimbap.mp4\"\n",
    "\n",
    "# 동영상 캡쳐 객체 생성\n",
    "cap = cv2.VideoCapture(video_path)\n",
    "\n",
    "# 이전 프레임\n",
    "prev_frame = None\n",
    "\n",
    "# 화면 전환 타임프레임 리스트\n",
    "transitions = []\n",
    "\n",
    "# FPS 구하기\n",
    "fps = cap.get(cv2.CAP_PROP_FPS)\n",
    "\n",
    "while True:\n",
    "    # 프레임 읽기\n",
    "    ret, frame = cap.read()\n",
    "\n",
    "    # 프레임을 읽을 수 없으면 종료\n",
    "    if not ret:\n",
    "        break\n",
    "\n",
    "    # 현재 프레임과 이전 프레임이 모두 있을 때\n",
    "    if prev_frame is not None:\n",
    "        # 현재 프레임과 이전 프레임의 차이 계산\n",
    "        diff = cv2.absdiff(frame, prev_frame)\n",
    "\n",
    "        # 차이의 평균 계산\n",
    "        diff_mean = diff.mean()\n",
    "\n",
    "        # 차이의 평균이 일정 값 이상이면 화면 전환으로 간주\n",
    "        if diff_mean > 40:\n",
    "            # 화면 전환 타임프레임 추가\n",
    "            transitions.append(cap.get(cv2.CAP_PROP_POS_FRAMES))\n",
    "\n",
    "    # 현재 프레임을 이전 프레임으로 저장\n",
    "    prev_frame = frame\n",
    "\n",
    "# 동영상 캡쳐 객체 해제\n",
    "cap.release()\n",
    "\n",
    "# 전환 시간 계산\n",
    "transition_times = [(frame / fps) for frame in transitions]\n",
    "\n",
    "# 화면 전환 시간 출력\n",
    "print(\"화면 전환 시간: \", transition_times)\n"
   ]
  },
  {
   "cell_type": "code",
   "execution_count": 6,
   "metadata": {},
   "outputs": [
    {
     "name": "stderr",
     "output_type": "stream",
     "text": [
      "/usr/local/lib/python3.8/dist-packages/tqdm/auto.py:21: TqdmWarning: IProgress not found. Please update jupyter and ipywidgets. See https://ipywidgets.readthedocs.io/en/stable/user_install.html\n",
      "  from .autonotebook import tqdm as notebook_tqdm\n",
      "VideoManager is deprecated and will be removed.\n"
     ]
    }
   ],
   "source": [
    "import cv2\n",
    "from scenedetect import VideoManager, SceneManager, FrameTimecode, StatsManager\n",
    "from scenedetect.detectors import ContentDetector\n",
    "\n",
    "# 동영상 열기\n",
    "cap = cv2.VideoCapture('/workspace/scene_change/IMG_4247.mp4')\n",
    "\n",
    "# 프레임 추출\n",
    "frame_count = 0\n",
    "prev_frame = None\n",
    "scene_list = []  # scene_list 변수 정의\n",
    "\n",
    "while True:\n",
    "    ret, frame = cap.read()\n",
    "    if not ret:\n",
    "        break\n",
    "\n",
    "    # 프레임 그레이스케일 변환\n",
    "    gray = cv2.cvtColor(frame, cv2.COLOR_BGR2GRAY)\n",
    "\n",
    "    # 이전 프레임과 현재 프레임의 차이 계산\n",
    "    if prev_frame is not None:\n",
    "        diff = cv2.absdiff(gray, prev_frame)\n",
    "        count = cv2.countNonZero(diff)\n",
    "\n",
    "        # 임계값 이상의 차이가 감지되면 해당 시간 프레임 저장\n",
    "        if count > 5000:\n",
    "            time_ms = int(cap.get(cv2.CAP_PROP_POS_MSEC))\n",
    "            timecode = FrameTimecode(time_ms, fps=cap.get(cv2.CAP_PROP_FPS))\n",
    "            scene_list.append(timecode)\n",
    "\n",
    "    prev_frame = gray.copy()\n",
    "    frame_count += 1\n",
    "\n",
    "# 동영상 종료 및 OpenCV 리소스 해제\n",
    "cap.release()\n",
    "cv2.destroyAllWindows()\n",
    "\n",
    "# PySceneDetect를 사용하여 화면 장면 전환 감지\n",
    "video_manager = VideoManager(['/workspace/scene_change/IMG_4247.mp4'])\n",
    "stats_manager = StatsManager()\n",
    "scene_manager = SceneManager(stats_manager)\n",
    "scene_manager.add_detector(ContentDetector(threshold=30))\n",
    "scene_manager.detect_scenes(frame_source=video_manager)\n",
    "\n",
    "# 감지된 시간 프레임 출력\n",
    "scene_list = scene_manager.get_scene_list()\n",
    "for i, scene in enumerate(scene_list):\n",
    "    print(\"Scene %2d: %s - %s\" % (i+1, scene[0], scene[1]))"
   ]
  },
  {
   "cell_type": "code",
   "execution_count": 7,
   "metadata": {},
   "outputs": [],
   "source": [
    "import cv2\n",
    "from scenedetect import SceneManager, StatsManager\n",
    "from scenedetect.frame_timecode import FrameTimecode\n",
    "from scenedetect.detectors import ContentDetector\n",
    "\n",
    "# 동영상 열기\n",
    "cap = cv2.VideoCapture('/workspace/scene_change/kimbap.mp4')\n",
    "\n",
    "# cap.read()"
   ]
  },
  {
   "cell_type": "code",
   "execution_count": 8,
   "metadata": {},
   "outputs": [
    {
     "name": "stdout",
     "output_type": "stream",
     "text": [
      "00:00:00.000\n"
     ]
    },
    {
     "ename": "AttributeError",
     "evalue": "'numpy.ndarray' object has no attribute 'base_timecode'",
     "output_type": "error",
     "traceback": [
      "\u001b[0;31m---------------------------------------------------------------------------\u001b[0m",
      "\u001b[0;31mAttributeError\u001b[0m                            Traceback (most recent call last)",
      "\u001b[0;32m<ipython-input-8-0dd6f79925e2>\u001b[0m in \u001b[0;36m<module>\u001b[0;34m\u001b[0m\n\u001b[1;32m     23\u001b[0m \u001b[0;34m\u001b[0m\u001b[0m\n\u001b[1;32m     24\u001b[0m     \u001b[0;31m# PySceneDetect에서 화면 장면 전환 감지\u001b[0m\u001b[0;34m\u001b[0m\u001b[0;34m\u001b[0m\u001b[0;34m\u001b[0m\u001b[0m\n\u001b[0;32m---> 25\u001b[0;31m     \u001b[0mscene_manager\u001b[0m\u001b[0;34m.\u001b[0m\u001b[0mdetect_scenes\u001b[0m\u001b[0;34m(\u001b[0m\u001b[0mframe\u001b[0m\u001b[0;34m)\u001b[0m\u001b[0;34m\u001b[0m\u001b[0;34m\u001b[0m\u001b[0m\n\u001b[0m\u001b[1;32m     26\u001b[0m \u001b[0;34m\u001b[0m\u001b[0m\n\u001b[1;32m     27\u001b[0m     \u001b[0;31m# 새로운 화면 장면이 감지되면 시작 시간 저장\u001b[0m\u001b[0;34m\u001b[0m\u001b[0;34m\u001b[0m\u001b[0;34m\u001b[0m\u001b[0m\n",
      "\u001b[0;32m/usr/local/lib/python3.8/dist-packages/scenedetect/scene_manager.py\u001b[0m in \u001b[0;36mdetect_scenes\u001b[0;34m(self, video, duration, end_time, frame_skip, show_progress, callback, frame_source)\u001b[0m\n\u001b[1;32m    807\u001b[0m             \u001b[0;32mraise\u001b[0m \u001b[0mValueError\u001b[0m\u001b[0;34m(\u001b[0m\u001b[0;34m'end_time must be greater than or equal to 0!'\u001b[0m\u001b[0;34m)\u001b[0m\u001b[0;34m\u001b[0m\u001b[0;34m\u001b[0m\u001b[0m\n\u001b[1;32m    808\u001b[0m \u001b[0;34m\u001b[0m\u001b[0m\n\u001b[0;32m--> 809\u001b[0;31m         \u001b[0mself\u001b[0m\u001b[0;34m.\u001b[0m\u001b[0m_base_timecode\u001b[0m \u001b[0;34m=\u001b[0m \u001b[0mvideo\u001b[0m\u001b[0;34m.\u001b[0m\u001b[0mbase_timecode\u001b[0m\u001b[0;34m\u001b[0m\u001b[0;34m\u001b[0m\u001b[0m\n\u001b[0m\u001b[1;32m    810\u001b[0m         \u001b[0;31m# TODO(v1.0): Fix this properly by making SceneManager create and own a StatsManager,\u001b[0m\u001b[0;34m\u001b[0m\u001b[0;34m\u001b[0m\u001b[0;34m\u001b[0m\u001b[0m\n\u001b[1;32m    811\u001b[0m         \u001b[0;31m# and requiring the framerate to be passed to the StatsManager the constructor.\u001b[0m\u001b[0;34m\u001b[0m\u001b[0;34m\u001b[0m\u001b[0;34m\u001b[0m\u001b[0m\n",
      "\u001b[0;31mAttributeError\u001b[0m: 'numpy.ndarray' object has no attribute 'base_timecode'"
     ]
    }
   ],
   "source": [
    "# PySceneDetect 객체 생성\n",
    "video_fps = cap.get(cv2.CAP_PROP_FPS)\n",
    "frame_width = int(cap.get(cv2.CAP_PROP_FRAME_WIDTH))\n",
    "frame_height = int(cap.get(cv2.CAP_PROP_FRAME_HEIGHT))\n",
    "stats_manager = StatsManager()\n",
    "scene_manager = SceneManager(stats_manager)\n",
    "scene_manager.add_detector(ContentDetector(threshold=30))\n",
    "\n",
    "# 화면 장면 전환 감지\n",
    "scene_list = []\n",
    "start_time = None\n",
    "while True:\n",
    "    # 프레임 읽기\n",
    "    ret, frame = cap.read()\n",
    "    if not ret:\n",
    "        break\n",
    "\n",
    "    # 현재 프레임의 시간 추출\n",
    "    time_ms = int(cap.get(cv2.CAP_PROP_POS_MSEC))\n",
    "    timecode = FrameTimecode(time_ms, fps=video_fps)\n",
    "    \n",
    "    print(timecode)\n",
    "    \n",
    "    # PySceneDetect에서 화면 장면 전환 감지\n",
    "    scene_manager.detect_scenes(frame)\n",
    "\n",
    "    # 새로운 화면 장면이 감지되면 시작 시간 저장\n",
    "    if scene_manager.get_num_scenes() > len(scene_list):\n",
    "        start_time = timecode\n",
    "\n",
    "    # 화면 장면이 종료되면 해당 구간의 시작 시간과 종료 시간 저장\n",
    "    for i, scene in enumerate(scene_manager.get_scene_list()):\n",
    "        if i > len(scene_list):\n",
    "            start_frame, end_frame = scene[0], scene[1]\n",
    "            end_time = timecode\n",
    "            scene_list.append([start_time, end_time])\n",
    "            start_time = None\n",
    "            break\n",
    "\n",
    "# 동영상 종료 및 OpenCV 리소스 해제\n",
    "cap.release()\n",
    "cv2.destroyAllWindows()\n",
    "\n",
    "# 감지된 시간 프레임 출력\n",
    "for i, scene in enumerate(scene_list):\n",
    "    print(\"Scene %2d: %s - %s\" % (i+1, scene[0], scene[1]))\n"
   ]
  }
 ],
 "metadata": {
  "kernelspec": {
   "display_name": "Python 3",
   "language": "python",
   "name": "python3"
  },
  "language_info": {
   "codemirror_mode": {
    "name": "ipython",
    "version": 3
   },
   "file_extension": ".py",
   "mimetype": "text/x-python",
   "name": "python",
   "nbconvert_exporter": "python",
   "pygments_lexer": "ipython3",
   "version": "3.8.5"
  }
 },
 "nbformat": 4,
 "nbformat_minor": 4
}
